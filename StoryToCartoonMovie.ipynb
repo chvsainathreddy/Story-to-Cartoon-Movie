{
 "cells": [
  {
   "cell_type": "code",
   "execution_count": null,
   "id": "f8b86b3e",
   "metadata": {},
   "outputs": [],
   "source": [
    "import os\n",
    "import openai\n",
    "import requests\n",
    "from gtts import gTTS\n",
    "from moviepy.editor import *\n",
    "from PIL import Image"
   ]
  },
  {
   "cell_type": "code",
   "execution_count": null,
   "id": "b5358e78",
   "metadata": {},
   "outputs": [],
   "source": [
    "openai.api_key = \"YOUR_API_KEY_HERE\""
   ]
  },
  {
   "cell_type": "code",
   "execution_count": null,
   "id": "cd728318",
   "metadata": {},
   "outputs": [],
   "source": [
    "story = input()"
   ]
  },
  {
   "cell_type": "code",
   "execution_count": null,
   "id": "bc43c1db",
   "metadata": {},
   "outputs": [],
   "source": [
    "os.makedirs(\"images\", exist_ok=True)\n",
    "os.makedirs(\"voices\", exist_ok=True)\n",
    "os.makedirs(\"output\", exist_ok=True)"
   ]
  },
  {
   "cell_type": "code",
   "execution_count": null,
   "id": "cdbc7218",
   "metadata": {},
   "outputs": [],
   "source": [
    "#split into lines\n",
    "scenes = [line.strip() for line in story.split(\"\\n\") if line.strip()]\n",
    "print(f\"Detected {len(scenes)} scenes.\")"
   ]
  },
  {
   "cell_type": "code",
   "execution_count": null,
   "id": "963f8434",
   "metadata": {},
   "outputs": [],
   "source": [
    "#Generate Cartoon Prompts\n",
    "prompts = []\n",
    "for i, scene in enumerate(scenes, 1):\n",
    "    response = openai.ChatCompletion.create(\n",
    "        model=\"gpt-4o-mini\",\n",
    "        messages=[\n",
    "            {\"role\": \"system\", \"content\": \"You generate short, vivid cartoon-style prompts for DALL·E based on a story scene.\"},\n",
    "            {\"role\": \"user\", \"content\": f\"Create a cute cartoon DALL·E prompt for this story scene: {scene}\"}\n",
    "        ],\n",
    "        temperature=0.7\n",
    "    )\n",
    "    prompt = response['choices'][0]['message']['content']\n",
    "    prompts.append(prompt)\n",
    "    print(f\"Scene {i} Prompt: {prompt}\")"
   ]
  },
  {
   "cell_type": "code",
   "execution_count": null,
   "id": "76e2438c",
   "metadata": {},
   "outputs": [],
   "source": [
    "# Generate images using Dall-E\n",
    "image_files = []\n",
    "for i, prompt in enumerate(prompts, 1):\n",
    "    image_response = openai.images.generate(\n",
    "        model=\"dall-e-3\",\n",
    "        prompt=prompt,\n",
    "        size=\"1024x1024\"\n",
    "    )\n",
    "    image_url = image_response.data[0].url\n",
    "    img_path = f\"images/scene{i}.png\"\n",
    "    img_data = requests.get(image_url).content\n",
    "    with open(img_path, \"wb\") as f:\n",
    "        f.write(img_data)\n",
    "    image_files.append(img_path)\n",
    "    print(f\"✅ Scene {i} image saved to {img_path}\")"
   ]
  },
  {
   "cell_type": "code",
   "execution_count": null,
   "id": "c108e874",
   "metadata": {},
   "outputs": [],
   "source": [
    "#Voice Over using Google Text to Speech\n",
    "voice_files = []\n",
    "for i, scene in enumerate(scenes, 1):\n",
    "    voice_path = f\"voices/scene{i}.mp3\"\n",
    "    tts = gTTS(scene, lang='en')\n",
    "    tts.save(voice_path)\n",
    "    voice_files.append(voice_path)\n",
    "    "
   ]
  },
  {
   "cell_type": "code",
   "execution_count": null,
   "id": "d750f0d0",
   "metadata": {},
   "outputs": [],
   "source": [
    "#Combining Audio and Video\n",
    "clips = []\n",
    "for img, voice in zip(image_files, voice_files):\n",
    "    audio_clip = AudioFileClip(voice)\n",
    "    duration = audio_clip.duration or 3.0\n",
    "    img_clip = ImageClip(img).set_duration(duration).set_audio(audio_clip)\n",
    "    clips.append(img_clip)\n"
   ]
  },
  {
   "cell_type": "code",
   "execution_count": null,
   "id": "8399f66e",
   "metadata": {},
   "outputs": [],
   "source": [
    "final_video = concatenate_videoclips(clips, method=\"compose\")\n",
    "\n",
    "output_video_path = \"output/cartoon_story_with_voice.mp4\"\n",
    "final_video.write_videofile(\n",
    "    output_video_path,\n",
    "    fps=24,\n",
    "    codec='libx264',\n",
    "    audio_codec='aac'\n",
    ")"
   ]
  }
 ],
 "metadata": {
  "kernelspec": {
   "display_name": "Python 3 (ipykernel)",
   "language": "python",
   "name": "python3"
  },
  "language_info": {
   "codemirror_mode": {
    "name": "ipython",
    "version": 3
   },
   "file_extension": ".py",
   "mimetype": "text/x-python",
   "name": "python",
   "nbconvert_exporter": "python",
   "pygments_lexer": "ipython3",
   "version": "3.11.5"
  }
 },
 "nbformat": 4,
 "nbformat_minor": 5
}
